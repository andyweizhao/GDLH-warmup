{
  "cells": [
    {
      "cell_type": "markdown",
      "metadata": {
        "id": "sqVW5Nezc8GZ"
      },
      "source": [
        "# 2. Conda setup"
      ]
    },
    {
      "cell_type": "markdown",
      "metadata": {},
      "source": [
        "## Prerequisites"
      ]
    },
    {
      "cell_type": "markdown",
      "metadata": {},
      "source": [
        "__Note:__ Make sure you run this notebook (at first) with no (or base) conda environment activated."
      ]
    },
    {
      "cell_type": "markdown",
      "metadata": {},
      "source": [
        "Let us check whether you have **Python 3** and **pip** installed on your system. Note that this is not strictly necessary, as Conda will install its own version of Python."
      ]
    },
    {
      "cell_type": "code",
      "execution_count": null,
      "metadata": {
        "colab": {
          "base_uri": "https://localhost:8080/"
        },
        "id": "EGkS6nN6dQaz",
        "outputId": "f49e39b2-eb9a-4d27-82bf-b19a58367a7e"
      },
      "outputs": [],
      "source": [
        "!python3 --version\n",
        "!pip --version"
      ]
    },
    {
      "cell_type": "markdown",
      "metadata": {},
      "source": [
        "Although it's not necessary, we can also check whether your system/environment is GPU capable for ML:"
      ]
    },
    {
      "cell_type": "code",
      "execution_count": null,
      "metadata": {
        "colab": {
          "base_uri": "https://localhost:8080/"
        },
        "id": "_FSlIfLxdFB6",
        "outputId": "ded9414e-14e8-4194-ed38-69d491ab6f3a"
      },
      "outputs": [],
      "source": [
        "!nvidia-smi"
      ]
    },
    {
      "cell_type": "markdown",
      "metadata": {},
      "source": [
        "## Install"
      ]
    },
    {
      "cell_type": "markdown",
      "metadata": {},
      "source": [
        "We will use Conda to manage the python environment (and GPU).  \n",
        "\n",
        "Go to https://docs.conda.io/projects/conda/en/latest/user-guide/install/index.html for instructions on how to install Conda on your system.  "
      ]
    },
    {
      "cell_type": "markdown",
      "metadata": {},
      "source": [
        "Check your install:"
      ]
    },
    {
      "cell_type": "code",
      "execution_count": 1,
      "metadata": {},
      "outputs": [
        {
          "name": "stdout",
          "output_type": "stream",
          "text": [
            "conda 4.11.0\n"
          ]
        }
      ],
      "source": [
        "!conda --version"
      ]
    },
    {
      "cell_type": "markdown",
      "metadata": {},
      "source": [
        "Check for updates in exterior terminal:  \n",
        "\n",
        "`conda update conda`"
      ]
    },
    {
      "cell_type": "markdown",
      "metadata": {},
      "source": [
        "## Create new environment"
      ]
    },
    {
      "cell_type": "markdown",
      "metadata": {},
      "source": [
        "Next let us create a new conda environment from a yaml file. Create a file **environment_init.yml** (in the root directory of the repo) with the following contents:  \n",
        "\n",
        "```\n",
        "name: GDLH-warmup\n",
        "\n",
        "channels:\n",
        "  - defaults\n",
        "  - conda-forge\n",
        "\n",
        "dependencies:\n",
        "  - python=3.9\n",
        "  - cudatoolkit\n",
        "  - cudnn\n",
        "```"
      ]
    },
    {
      "cell_type": "markdown",
      "metadata": {},
      "source": [
        "Create the conda environment: run in a terminal __outside of this notebook__:  \n",
        "\n",
        "```conda env create -f environment_init.yml```\n",
        "\n",
        "! This will create a *big* 'env' directory in our working directory!"
      ]
    },
    {
      "cell_type": "markdown",
      "metadata": {},
      "source": [
        "Check the list of available conda environments:"
      ]
    },
    {
      "cell_type": "code",
      "execution_count": null,
      "metadata": {},
      "outputs": [],
      "source": [
        "!conda env list "
      ]
    },
    {
      "cell_type": "markdown",
      "metadata": {},
      "source": [
        "Activate the conda environment and check list of packages: run in a terminal __outside of this notebook__:  \n",
        "\n",
        "```\n",
        "conda activate GDHL-warmup\n",
        "conda list\n",
        "```"
      ]
    },
    {
      "cell_type": "markdown",
      "metadata": {},
      "source": [
        "## Compatibility with Jupyter notebooks"
      ]
    },
    {
      "cell_type": "markdown",
      "metadata": {},
      "source": [
        "Enable compatibility of Conda with Jupyter notebooks: (from https://towardsdatascience.com/get-your-conda-environment-to-show-in-jupyter-notebooks-the-easy-way-17010b76e874)\n",
        "\n",
        "Run in a terminal __outside of this notebook__:  \n",
        "```\n",
        "conda install nb_conda_kernels\n",
        "conda install ipykernel\n",
        "```"
      ]
    },
    {
      "cell_type": "markdown",
      "metadata": {},
      "source": [
        "Finally, restart Jupyter notebooks and make sure that you can change the Python kernel running this notebook to the conda environment **GDLH-warmup**.  \n",
        "\n",
        "Check: (active environment shows a *):"
      ]
    },
    {
      "cell_type": "code",
      "execution_count": null,
      "metadata": {},
      "outputs": [],
      "source": [
        "!conda info --envs"
      ]
    },
    {
      "cell_type": "markdown",
      "metadata": {},
      "source": [
        "Check that we are running Python 3.9:"
      ]
    },
    {
      "cell_type": "code",
      "execution_count": null,
      "metadata": {},
      "outputs": [],
      "source": [
        "!python --version"
      ]
    },
    {
      "cell_type": "markdown",
      "metadata": {},
      "source": [
        "Check the list of packages:"
      ]
    },
    {
      "cell_type": "code",
      "execution_count": null,
      "metadata": {},
      "outputs": [],
      "source": [
        "!conda list"
      ]
    },
    {
      "cell_type": "markdown",
      "metadata": {},
      "source": [
        "## Update environment"
      ]
    },
    {
      "cell_type": "markdown",
      "metadata": {},
      "source": [
        "Try updating all packages (first make sure you are in the **GDHL-warmup** environment): run in a terminal **outside this notebook**\n",
        "\n",
        "```\n",
        "conda activate GDLH-warmup\n",
        "conda update --all\n",
        "```"
      ]
    },
    {
      "cell_type": "markdown",
      "metadata": {},
      "source": [
        "Try updating the environment (especially if you edit the file **environment.yml**): run in a terminal **outside this notebook**\n",
        "\n",
        "*This may take a while, do not do it if not necessary.*\n",
        "\n",
        "```\n",
        "conda env update --prefix ./env --file environment_init.yml  --prune\n",
        "```"
      ]
    },
    {
      "cell_type": "markdown",
      "metadata": {},
      "source": [
        "## Add packages"
      ]
    },
    {
      "cell_type": "markdown",
      "metadata": {},
      "source": [
        "*Remark*: Initially I planned to use **Poetry** as a Python package/dependency manager (on top of Anaconda), because it is more powerful and tailored to Python. However I decided to KISS."
      ]
    },
    {
      "cell_type": "markdown",
      "metadata": {},
      "source": [
        "Let's imagine we want the package **numpy**.\n",
        "\n",
        "Run in a terminal outside of this notebook, with the **GDLH-warmup** environment activated:\n",
        "\n",
        "```\n",
        "conda install numpy\n",
        "```"
      ]
    },
    {
      "cell_type": "markdown",
      "metadata": {},
      "source": [
        "Anaconda will figure out which version of numpy to install and handle dependencies. This job is actually incredibly tricky!"
      ]
    },
    {
      "cell_type": "markdown",
      "metadata": {},
      "source": [
        "If we want to make sure this package is part of the requirements of our app, we should add it to the environment file!"
      ]
    },
    {
      "cell_type": "markdown",
      "metadata": {},
      "source": [
        "## Export environment file"
      ]
    },
    {
      "cell_type": "markdown",
      "metadata": {},
      "source": [
        "In case you wish to export your active environment to a new file (first make sure you are in the **GDLH-warmup** environment): run in a terminal **outside this notebook**\n",
        "\n",
        "```\n",
        "conda activate GDLH-warmup\n",
        "conda env export > environment_save.yml\n",
        "```"
      ]
    },
    {
      "cell_type": "markdown",
      "metadata": {},
      "source": [
        "Now we can ensure that everyone has the exact same packages installed thanks to this file."
      ]
    },
    {
      "cell_type": "markdown",
      "metadata": {},
      "source": [
        "Notice that it contains many more packages than **environment_init.yml**!"
      ]
    },
    {
      "cell_type": "markdown",
      "metadata": {},
      "source": [
        "Note that there is now a large directory called **env** at the root of our project. This was created by Conda. ***It should be ignored by git!***"
      ]
    }
  ],
  "metadata": {
    "accelerator": "GPU",
    "colab": {
      "collapsed_sections": [],
      "name": "deep_learning_fundamentals_part1",
      "provenance": [],
      "toc_visible": true
    },
    "kernelspec": {
      "display_name": "Python 3",
      "name": "python3"
    },
    "language_info": {
      "codemirror_mode": {
        "name": "ipython",
        "version": 3
      },
      "file_extension": ".py",
      "mimetype": "text/x-python",
      "name": "python",
      "nbconvert_exporter": "python",
      "pygments_lexer": "ipython3",
      "version": "3.9.7"
    }
  },
  "nbformat": 4,
  "nbformat_minor": 0
}
