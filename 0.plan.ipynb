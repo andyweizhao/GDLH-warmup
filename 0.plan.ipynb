{
 "cells": [
  {
   "cell_type": "markdown",
   "metadata": {},
   "source": [
    "# Plan"
   ]
  },
  {
   "cell_type": "markdown",
   "metadata": {},
   "source": [
    "Here is the plan for the warm-up session:\n",
    "\n",
    "### 1. [Python warm up](1.python-warmup.ipynb) (~1H)\n",
    "### 2. [Conda (+ rest) setup](2.conda-setup.ipynb) (~15-30min)\n",
    "### 3. [Neural Network from scratch](3.neural-network.ipynb) (~30-45min)\n",
    "### 4. [Git](4.git.ipynb) (~15min)"
   ]
  }
 ],
 "metadata": {
  "language_info": {
   "name": "python"
  },
  "orig_nbformat": 4
 },
 "nbformat": 4,
 "nbformat_minor": 2
}
